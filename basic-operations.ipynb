{
 "nbformat": 4,
 "nbformat_minor": 0,
 "metadata": {
  "colab": {
   "provenance": [],
   "collapsed_sections": []
  },
  "kernelspec": {
   "name": "python3",
   "display_name": "Python 3"
  },
  "language_info": {
   "name": "python"
  }
 },
 "cells": [
  {
   "cell_type": "markdown",
   "source": [
    "ASSIGNMENTS - Compulsory\n",
    "Send it before 0000 hrs IST or 12 AM Wednesday\n",
    "NOTE: Evaluation will be done before next class.\n",
    "HOW TO SUBMIT: -\n",
    "Download this notebook, Solve it and upload in the google form given in the mail."
   ],
   "metadata": {
    "id": "cyOfbWCdOjEr"
   }
  },
  {
   "cell_type": "markdown",
   "source": [
    "Python String Manipulation\n",
    "1. Count the number of times `iNeuron` appears in the string.\n",
    "text = \"Welcome to iNeuron, You are a part of FSDS Bootcamp 2 in iNeuron. I hope you are enjoying the course by iNeuron\"\n",
    "2. Check if position `5` to `11` ends with the phrase `iNeuron.` in the string\n",
    "txt = \"Hello, welcome to FSDS 2.0 at iNeuron.\"\n",
    "3. Write a program that takes your full name as input and displays the abbreviations of the first and middle names except the last name which is displayed as it is. For example, if your name is Sunny Bhaveen Chandra, then the output should be S.B.Chandra.\n",
    "4. Join all items in a list into a string, using a hash(`#`) character as separator:\n",
    "LIST = [\"My\", \"name\", \"is\", \"Rishav\", \"Dash\"]\n",
    "5. Write example for the following string manipulation function,\n",
    "  - isdecimal()\n",
    "  - islower()\n",
    "  - isupper()\n",
    "  - isalpha()\n",
    "  - isnumeric()\n",
    "6. Indian PAN card format follows the following formats -\n",
    "    - `AYEPC7894X`\n",
    "    - `ABCDE9999Y`\n",
    "  Take user input for PAN_CARD and validate as per the above example.\n"
   ],
   "metadata": {
    "id": "GT4IytkJMNa-"
   }
  },
  {
   "cell_type": "markdown",
   "source": [
    "1. Count the number of times iNeuron appears in the string"
   ],
   "metadata": {
    "collapsed": false
   }
  },
  {
   "cell_type": "code",
   "source": [
    "text = \"Welcome to iNeuron, You are a part of FSDS Bootcamp 2 in iNeuron. I hope you are enjoying the course by iNeuron\"\n",
    "list_string = text.replace(\",\", \"\").replace(\".\", \"\").split(\" \")\n",
    "print(list_string.count(\"iNeuron\"))"
   ],
   "metadata": {
    "id": "KwVni9gipNi-"
   },
   "execution_count": 22,
   "outputs": [
    {
     "name": "stdout",
     "output_type": "stream",
     "text": [
      "3\n"
     ]
    }
   ]
  },
  {
   "cell_type": "markdown",
   "source": [
    "2. Check if position `5` to `11` ends with the phrase `iNeuron.` in the string\n",
    "txt = \"Hello, welcome to FSDS 2.0 at iNeuron.\""
   ],
   "metadata": {
    "collapsed": false
   }
  },
  {
   "cell_type": "code",
   "execution_count": 23,
   "outputs": [
    {
     "name": "stdout",
     "output_type": "stream",
     "text": [
      "It does not end with phrase iNeuron\n"
     ]
    }
   ],
   "source": [
    "txt = \"Hello, welcome to FSDS 2.0 at iNeuron.\"\n",
    "if txt[5:12] == \"iNeuron.\":\n",
    "    print(\"It ends with phrase iNeuron\")\n",
    "else:\n",
    "    print(\"It does not end with phrase iNeuron\")"
   ],
   "metadata": {
    "collapsed": false
   }
  },
  {
   "cell_type": "markdown",
   "source": [
    "3. Write a program that takes your full name as input and displays the abbreviations of the first and middle names except the last name which is displayed as it is. For example, if your name is Sunny Bhaveen Chandra, then the output should be S.B.Chandra."
   ],
   "metadata": {
    "collapsed": false
   }
  },
  {
   "cell_type": "code",
   "execution_count": 24,
   "outputs": [
    {
     "name": "stdout",
     "output_type": "stream",
     "text": [
      "A.Singh\n"
     ]
    }
   ],
   "source": [
    "name = \"Abhinav Singh\"\n",
    "name_split = name.split(\" \")\n",
    "print(name_split[0][0] + \".\"+ name_split[1])"
   ],
   "metadata": {
    "collapsed": false
   }
  },
  {
   "cell_type": "markdown",
   "source": [
    "4. Join all items in a list into a string, using a hash(`#`) character as separator:\n",
    "LIST = [\"My\", \"name\", \"is\", \"Rishav\", \"Dash\"]"
   ],
   "metadata": {
    "collapsed": false
   }
  },
  {
   "cell_type": "code",
   "execution_count": 25,
   "outputs": [
    {
     "name": "stdout",
     "output_type": "stream",
     "text": [
      "My#name#is#Rishav#Dash\n"
     ]
    }
   ],
   "source": [
    "LIST = [\"My\", \"name\", \"is\", \"Rishav\", \"Dash\"]\n",
    "print(\"#\".join(LIST))"
   ],
   "metadata": {
    "collapsed": false
   }
  },
  {
   "cell_type": "markdown",
   "source": [
    "5. Write example for the following string manipulation function,\n",
    "  - isdecimal()\n",
    "  - islower()\n",
    "  - isupper()\n",
    "  - isalpha()\n",
    "  - isnumeric()"
   ],
   "metadata": {
    "collapsed": false
   }
  },
  {
   "cell_type": "code",
   "execution_count": 26,
   "outputs": [
    {
     "name": "stdout",
     "output_type": "stream",
     "text": [
      "True\n",
      "True\n",
      "True\n",
      "True\n",
      "True\n"
     ]
    }
   ],
   "source": [
    "print(\"10\".isdecimal())\n",
    "print(\"ineuron\".islower())\n",
    "print(\"INEURON\".isupper())\n",
    "print(\"October\".isalpha())\n",
    "print(\"09102022\".isnumeric())"
   ],
   "metadata": {
    "collapsed": false
   }
  },
  {
   "cell_type": "markdown",
   "source": [
    "6. Indian PAN card format follows the following formats -\n",
    "    - `AYEPC7894X`\n",
    "    - `ABCDE9999Y`\n",
    "  Take user input for PAN_CARD and validate as per the above example."
   ],
   "metadata": {
    "collapsed": false
   }
  },
  {
   "cell_type": "code",
   "execution_count": 27,
   "outputs": [
    {
     "name": "stdout",
     "output_type": "stream",
     "text": [
      "Valid\n"
     ]
    }
   ],
   "source": [
    "import re\n",
    "\n",
    "pan_number = input(\"Enter your PAN Card number: \")\n",
    "regex = \"[A-Z]{5}[0-9]{4}[A-Z]{1}\"\n",
    "pattern = re.compile(regex)\n",
    "if pan_number is None:\n",
    "    print(\"Invalid PAN number\")\n",
    "if re.search(pattern, pan_number) and len(pan_number) == 10:\n",
    "    print(\"Valid\")\n",
    "else:\n",
    "    print(\"Invalid\")"
   ],
   "metadata": {
    "collapsed": false
   }
  },
  {
   "cell_type": "code",
   "execution_count": 27,
   "outputs": [],
   "source": [],
   "metadata": {
    "collapsed": false
   }
  }
 ]
}
